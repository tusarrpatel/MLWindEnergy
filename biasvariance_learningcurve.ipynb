{
  "nbformat": 4,
  "nbformat_minor": 0,
  "metadata": {
    "anaconda-cloud": {},
    "kernelspec": {
      "display_name": "Python 3",
      "language": "python",
      "name": "python3"
    },
    "language_info": {
      "codemirror_mode": {
        "name": "ipython",
        "version": 3
      },
      "file_extension": ".py",
      "mimetype": "text/x-python",
      "name": "python",
      "nbconvert_exporter": "python",
      "pygments_lexer": "ipython3",
      "version": "3.6.5"
    },
    "colab": {
      "name": "Bias_and_variance_tutorial.ipynb",
      "provenance": [],
      "collapsed_sections": []
    }
  },
  "cells": [
    {
      "cell_type": "markdown",
      "metadata": {
        "id": "UAAA_gZJ0tve"
      },
      "source": [
        "# Bias and variance: some introductory examples\n",
        "\n",
        "Disclaimer: this notebook was not written by us, so use as is. Our thanks go the the team of prof. Dambre."
      ]
    },
    {
      "cell_type": "markdown",
      "metadata": {
        "id": "F81M1sGJ0tve"
      },
      "source": [
        "## Noisy sine wave data set"
      ]
    },
    {
      "cell_type": "markdown",
      "metadata": {
        "id": "XXtnLrM_0tvf"
      },
      "source": [
        "We use the case of polynomial regression where we approximate noisy data sampled from one period of a sine wave.\n",
        "\n",
        "The code below defines all the necessary functions and plots some example data."
      ]
    },
    {
      "cell_type": "code",
      "metadata": {
        "id": "ogXJnHhF0tvf",
        "outputId": "9052064b-c7d4-459d-d401-fdb8a531c461"
      },
      "source": [
        "import numpy as np\n",
        "%matplotlib notebook\n",
        "%matplotlib inline\n",
        "import matplotlib.pyplot as plt\n",
        "import math\n",
        "\n",
        "# seed random generator such that it always returns the same random values \n",
        "# (for reproducability of results)\n",
        "rng = np.random.RandomState(42)\n",
        "\n",
        "# Generate data from a single sine period \n",
        "# with gaussian noise added\n",
        "def SineModel(n=10, epsilon = 5):\n",
        "    x = math.pi*(rng.rand(n,1) * 2.0 - 1.0)\n",
        "    r = np.sin(x) + rng.randn(n, 1)*epsilon   \n",
        "    return x,r\n",
        "\n",
        "# Apply normal form linear regression\n",
        "def LinearRegression(x,r):\n",
        "    X = np.hstack((x,np.ones((x.shape[0],1))))\n",
        "    w = np.dot(np.dot(np.linalg.pinv(np.dot(X.T , X)), X.T), r)\n",
        "    y = np.dot(X, w)\n",
        "    return w, y\n",
        "\n",
        "def PolynomialFeatureMatrix(data = [], degree = 2):\n",
        "    n=data.shape[0]\n",
        "    X = data\n",
        "    for j in range(1,degree):\n",
        "        X = np.hstack((X,data**(j+1))) \n",
        "    return X \n",
        "\n",
        "# Compute total MSE for linear model and given weight values [w_0, w_1]\n",
        "def total_cost_mse(x, r , w):\n",
        "    X = np.hstack((x,np.ones((x.shape[0],1))))\n",
        "    err = np.dot(X, w) - r\n",
        "    mse = np.dot(err.T,err)/x.shape[0]\n",
        "    return mse\n",
        "\n",
        "# parameters\n",
        "n = 10\n",
        "epsilon = 0.5\n",
        "\n",
        "# Generate data points\n",
        "x,r = SineModel(n=n, epsilon = epsilon)\n",
        "\n",
        "# plot data\n",
        "x_ground = math.pi*np.arange(-1.0,1.0,0.05)\n",
        "ground_truth = np.sin(x_ground)\n",
        "\n",
        "plt.figure()\n",
        "plt.scatter(x, r)\n",
        "plt.plot(x_ground,ground_truth,color = 'g')\n",
        "plt.xlabel(\"x\")\n",
        "plt.ylabel(\"r, y\")\n",
        "plt.show()"
      ],
      "execution_count": null,
      "outputs": [
        {
          "output_type": "display_data",
          "data": {
            "image/png": "[encoded data removed]",
            "text/plain": [
              "<Figure size 432x288 with 1 Axes>"
            ]
          },
          "metadata": {
            "tags": [],
            "needs_background": "light"
          }
        }
      ]
    },
    {
      "cell_type": "markdown",
      "metadata": {
        "id": "jWrq-5-90tvj"
      },
      "source": [
        "## Bias and variance theory"
      ]
    },
    {
      "cell_type": "markdown",
      "metadata": {
        "id": "t9f3zmJU0tvk"
      },
      "source": [
        "The theoretical concepts of model bias and model variance address the expected mean and variance across hypotheses trained on all possible same size sets of training data which could be sampled from the world. Clearly, these averages cannot be computed in real life. \n",
        "\n",
        "We know from theory that the expected MSE on unseen data equals the sum of squared bias and variance. If the ground truth is deterministic and a model is capable of perfectly approximating it (assuming no irreducible noise on the data sampled from that distribution), the bias and variance are equal to zero. If, however, there is noise on the data that can not be predicted, the bias can still be zero, but the variance equals the variance on the noise. Hence, the latter is a lower bound on the MSE and this is why we call it irreducible noise. \n",
        "\n",
        "In practice, the model can be underfitting, which means it is not sufficiently powerful to explain even the predictable part of the ground truth. This will lead to increased bias. When not enough training data is used in relation to the model complexity, the final hypothesis will be sensitive to the specific training samples that are used. This increases the variance.\n",
        "\n",
        "After training a model, it is important to know how best to further improve it. In other words, to try and investigate where the remaining MSE comes from. Since bias and variance are coupled through MSE, they can not be measured separately. And actually, even the expected MSE can only be estimated, since only a finite set of unseen data samples is available. Therefore, approximations need to be made to try and diagnose the weaknesses of a machine learning model. \n"
      ]
    },
    {
      "cell_type": "markdown",
      "metadata": {
        "id": "36j0ppnH0tvk"
      },
      "source": [
        "## Hypothesis variability"
      ]
    },
    {
      "cell_type": "markdown",
      "metadata": {
        "id": "RI8JL4RQ0tvk"
      },
      "source": [
        "To allow you to explore the variability of a model as a function of the data set size, we generate a single large validation set of equally spaced samples on which we validate a number of hypotheses, each trained on a different random training set. We plot the solutions in data space and compute the MSE on the noiseless ground truth and on noisy data sampled from the same distribution as the training data. \n",
        "\n",
        "Play around with the parameters such as polynomial degree, epsilon and the number of training samples to see how the variability of the fitted curves and the variance accross the trained models change. Make sure that you understand what happens for very large training sets.\n",
        "\n",
        "Also, you can try to use the ridge regression model instead of the unregularised model to see how that changes things."
      ]
    },
    {
      "cell_type": "code",
      "metadata": {
        "id": "i3vOJeln0tvl",
        "outputId": "86ebff5b-e42a-4b88-e07d-e1698cefb4df"
      },
      "source": [
        "# parameters\n",
        "# number of training samples\n",
        "n = 20\n",
        "\n",
        "# Stdev of zero-mean noise on the data\n",
        "epsilon = 0.1\n",
        "\n",
        "# number of hypotheses trained on different sets of training samples\n",
        "num_iterations = 20\n",
        "\n",
        "# degree of polynomial model\n",
        "poly_order = 7\n",
        "\n",
        "# number of validation samples\n",
        "validation_set_size = 200000\n",
        "\n",
        "# compute validation samples, equally spaced accross interval\n",
        "# this is used to plot the curves below\n",
        "x_ground = np.array(math.pi*np.arange(-1.0,1.0,0.05))\n",
        "x_ground = x_ground.reshape(-1,1)\n",
        "r_ground = np.sin(x_ground)\n",
        "X_ground = PolynomialFeatureMatrix(data = x_ground, degree = poly_order)\n",
        "X_plt = np.hstack((X_ground,np.ones((X_ground.shape[0],1))))    \n",
        "\n",
        "plt.figure()\n",
        "plt.xlabel(\"x\")\n",
        "plt.ylabel(\"r, y\")\n",
        "\n",
        "mse_vals = np.zeros(num_iterations)\n",
        "x_val,r_val = SineModel(n=validation_set_size, epsilon = epsilon)\n",
        "X_val = PolynomialFeatureMatrix(data = x_val, degree = poly_order)\n",
        "\n",
        "\n",
        "for idx in range(num_iterations):\n",
        "    # Generate data points\n",
        "    x,r = SineModel(n=n, epsilon = epsilon)\n",
        "    # Generate polynomial feature matrix\n",
        "    X = PolynomialFeatureMatrix(data = x, degree = poly_order)\n",
        "    # Perform linear regression\n",
        "    w,y = LinearRegression(X,r)\n",
        "    # Calculate hypothesis for visualisation\n",
        "    y_plt = np.dot(X_plt,w)\n",
        "    plt.plot(x_ground,y_plt,color = 'r')\n",
        "    plt.xlim([-3,3])\n",
        "    mse_vals[idx] = total_cost_mse(X_val, r_val , w)\n",
        "\n",
        "plt.plot(x_ground,r_ground,color = 'g')\n",
        "plt.show()\n",
        "\n",
        "avg_mse = np.mean(mse_vals)\n",
        "var_mse = np.var(mse_vals)\n",
        "\n",
        "\n",
        "# note that the variance on the MSE, plotted below, is NOT the model variance!\n",
        "print(\"MSE average on validation data: \",avg_mse,\", variance on MSE: \",var_mse)\n"
      ],
      "execution_count": null,
      "outputs": [
        {
          "output_type": "display_data",
          "data": {
            "image/png": "[encoded data removed]",
            "text/plain": [
              "<Figure size 432x288 with 1 Axes>"
            ]
          },
          "metadata": {
            "tags": [],
            "needs_background": "light"
          }
        },
        {
          "output_type": "stream",
          "text": [
            "MSE average on validation data:  0.4670484450258806 , variance on MSE:  1.3746273246926728\n"
          ],
          "name": "stdout"
        }
      ]
    },
    {
      "cell_type": "markdown",
      "metadata": {
        "id": "wk520qbd0tvo"
      },
      "source": [
        "You should see that increasing the number of training samples decreases the variability accross models, while increasing the polynomial order increases it. They both increase/decrease with the noise on the data."
      ]
    },
    {
      "cell_type": "markdown",
      "metadata": {
        "id": "FykqGFyA0tvo"
      },
      "source": [
        "## Using learning curves to get an idea"
      ]
    },
    {
      "cell_type": "markdown",
      "metadata": {
        "id": "fHKV1d0e0tvp"
      },
      "source": [
        "In the linear regression tutorial, we introduced learning curves. We saw that these can be used to estimate to which value MSE would converge IF we could get enough data. Although you may not be able to get to this convergence point, you know it will be somewhere between the training MSE and the validation MSE obtained at the far right of your learning curve. \n",
        "\n",
        "From the theory outlined above, this limit eliminates the portion of the expected MSE that is caused by model variability, leaving only the model bias and the contribution of the variance of the noise on the data. Unfortunately, these can not be separated, but you can get an estimate of the model variance from the distance your hypothesis is away from this limit. Always be aware of the fact that this still remains an estimate, because of the limited set of unseen data used for estimating the generalisation MSE!\n",
        "\n",
        "Since calculating learning curves takes a lot of computing time, a validation strategy that averages accross a number of hypotheses, trained on different subsets of the data, can at least give a hint. If there is a lot of variance on the validation MSE estimates, this can be due to model variance, variance due to having a small validation set or data noise.\n",
        "\n",
        "The code below uses the learning curves of the linear regression tutorial on the unregularised models used in this notebook. Again, please feel free to introduce regularisation and study its impact by changing the code."
      ]
    },
    {
      "cell_type": "code",
      "metadata": {
        "id": "xGchU_ez0tvp",
        "outputId": "4f1c9679-d697-4153-a0fd-cd1482960d90"
      },
      "source": [
        "def cost_mse(y,y_hat):\n",
        "    \n",
        "    mse = np.mean((y - y_hat)**2)\n",
        "    \n",
        "    return mse\n",
        "\n",
        "# degree of polynomial model\n",
        "poly_order = 4\n",
        "\n",
        "# Generate 1000 train samples \n",
        "# Make random selections of 5, 10,..., 100 train samples \n",
        "# and 1000 validation samples\n",
        "# Repeat this a number of times for each number of train samples \n",
        "# and keep both the train and the test MSE\n",
        "\n",
        "max_train_samples = 100\n",
        "train_samples = np.arange(start=5,stop=max_train_samples+1,step=5)\n",
        "validation_samples = 1000\n",
        "total_samples = max_train_samples + validation_samples\n",
        "iterations = 100\n",
        "\n",
        "# compute validation samples, equally spaced accross interval\n",
        "# this is used to plot the curves below\n",
        "x_ground = np.array(math.pi*np.arange(-1.0,1.0,0.05))\n",
        "x_ground = x_ground.reshape(-1,1)\n",
        "r_ground = np.sin(x_ground)\n",
        "X_ground = PolynomialFeatureMatrix(data = x_ground, degree = poly_order)\n",
        "X_plt = np.hstack((X_ground,np.ones((X_ground.shape[0],1))))    \n",
        "\n",
        "# Stdev of zero-mean noise on the data\n",
        "epsilon = 0.8\n",
        "\n",
        "train_errors = np.zeros((len(train_samples),iterations))\n",
        "validation_errors = np.zeros((len(train_samples),iterations))\n",
        "\n",
        "x_data,y_data = SineModel(n=total_samples, epsilon = epsilon)\n",
        "\n",
        "for ids in range(len(train_samples)):\n",
        "    s = train_samples[ids]\n",
        "    for idt in range(iterations):\n",
        "        perm = np.random.permutation(total_samples)\n",
        "        x_train = x_data[perm[:s]]\n",
        "        X_train = PolynomialFeatureMatrix(data = x_train, degree = poly_order)\n",
        "        y_train = y_data[perm[:s]]\n",
        "        x_validation = x_data[perm[s:s+validation_samples]]\n",
        "        X_validation = PolynomialFeatureMatrix(data = x_validation, degree = poly_order)\n",
        "        X_validation = np.hstack((X_validation,np.ones((X_validation.shape[0],1))))    \n",
        "        y_validation = y_data[perm[s:s+validation_samples]]\n",
        "        \n",
        "        W, y_hat_train = LinearRegression(X_train,y_train)\n",
        "        train_errors[ids,idt] = cost_mse(y_train, y_hat_train)\n",
        "        \n",
        "        y_hat_validation = np.dot(X_validation, W)\n",
        "        validation_errors[ids,idt] = cost_mse(y_validation, y_hat_validation)\n",
        "        \n",
        "train_mean = np.mean(train_errors, axis = 1)        \n",
        "validation_mean = np.mean(validation_errors, axis = 1)        \n",
        "train_std = np.std(train_errors, axis = 1)        \n",
        "validation_std = np.std(validation_errors, axis = 1)        \n",
        "\n",
        "plt.figure()\n",
        "plt.errorbar(train_samples, train_mean, yerr=train_std, color = 'g', ecolor = 'g')\n",
        "plt.errorbar(train_samples, validation_mean, yerr=validation_std, color = 'r', \n",
        "             ecolor = 'r')\n",
        "plt.xlim([20.0,100.0])\n",
        "plt.ylim([0.0,1.0])\n",
        "plt.title(\"Learning curve\")\n",
        "plt.show()"
      ],
      "execution_count": null,
      "outputs": [
        {
          "output_type": "display_data",
          "data": {
            "image/png": "[encoded data removed]",
            "text/plain": [
              "<Figure size 432x288 with 1 Axes>"
            ]
          },
          "metadata": {
            "tags": [],
            "needs_background": "light"
          }
        }
      ]
    },
    {
      "cell_type": "code",
      "metadata": {
        "id": "6gSFc3ol0tvr",
        "outputId": "1cc0a45b-c3dc-4c6f-a941-eeef391a9133"
      },
      "source": [
        "#This code snippet ensures that the notebook uses the custom.css style sheet\n",
        "\n",
        "from IPython.core.display import HTML\n",
        "def css_styling():\n",
        "    styles = open(\"./custom.css\", \"r\").read()\n",
        "    return HTML(styles)\n",
        "css_styling()"
      ],
      "execution_count": null,
      "outputs": [
        {
          "output_type": "execute_result",
          "data": {
            "text/html": [
              "<style>\r\n",
              "@font-face {\r\n",
              "    font-family: \"Computer Modern\";\r\n",
              "    src: url('http://9dbb143991406a7c655e-aa5fcb0a5a4ec34cff238a2d56ca4144.r56.cf5.rackcdn.com/cmunss.otf');\r\n",
              "}\r\n",
              "@font-face {\r\n",
              "    font-family: \"Computer Modern\";\r\n",
              "    font-weight: bold;\r\n",
              "    src: url('http://9dbb143991406a7c655e-aa5fcb0a5a4ec34cff238a2d56ca4144.r56.cf5.rackcdn.com/cmunsx.otf');\r\n",
              "}\r\n",
              "@font-face {\r\n",
              "    font-family: \"Computer Modern\";\r\n",
              "    font-style: oblique;\r\n",
              "    src: url('http://9dbb143991406a7c655e-aa5fcb0a5a4ec34cff238a2d56ca4144.r56.cf5.rackcdn.com/cmunsi.otf');\r\n",
              "}\r\n",
              "@font-face {\r\n",
              "    font-family: \"Computer Modern\";\r\n",
              "    font-weight: bold;\r\n",
              "    font-style: oblique;\r\n",
              "    src: url('http://9dbb143991406a7c655e-aa5fcb0a5a4ec34cff238a2d56ca4144.r56.cf5.rackcdn.com/cmunso.otf');\r\n",
              "}\r\n",
              "div.cell{\r\n",
              "    width:800px;\r\n",
              "    margin-left:15% !important;\r\n",
              "    margin-right:auto;\r\n",
              "}\r\n",
              "h1 {\r\n",
              "    font-family: Helvetica, serif;\r\n",
              "}\r\n",
              "h4{\r\n",
              "    margin-top:12px;\r\n",
              "    margin-bottom: 3px;\r\n",
              "}\r\n",
              "\r\n",
              "div.text_cell_render{\r\n",
              "    font-family: Computer Modern, \"Helvetica Neue\", Arial, Helvetica, Geneva, sans-serif;\r\n",
              "    line-height: 145%;\r\n",
              "    font-size: 130%;\r\n",
              "    width:800px;\r\n",
              "    margin-left:auto;\r\n",
              "    margin-right:auto;\r\n",
              "}\r\n",
              ".CodeMirror{\r\n",
              "    font-family: \"Source Code Pro\", source-code-pro,Consolas, monospace;\r\n",
              "}\r\n",
              ".prompt{\r\n",
              "    display: None;\r\n",
              "}\r\n",
              ".text_cell_render h5 {\r\n",
              "    font-weight: 300;\r\n",
              "    font-size: 22pt;\r\n",
              "    color: #4057A1;\r\n",
              "    font-style: italic;\r\n",
              "    margin-bottom: .5em;\r\n",
              "    margin-top: 0.5em;\r\n",
              "    display: block;\r\n",
              "}\r\n",
              "\r\n",
              ".warning{\r\n",
              "    color: rgb( 240, 20, 20 )\r\n",
              "}\r\n",
              "</style>"
            ],
            "text/plain": [
              "<IPython.core.display.HTML object>"
            ]
          },
          "metadata": {
            "tags": []
          },
          "execution_count": 3
        }
      ]
    }
  ]
}